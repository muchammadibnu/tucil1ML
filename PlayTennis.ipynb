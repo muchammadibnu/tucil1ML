{
 "cells": [
  {
   "cell_type": "markdown",
   "metadata": {},
   "source": [
    "# Decision Tree Classifier\n",
    "\n",
    "Berikut ini merupakan implementasi machine learning pada dataset playtennis menggunakan library scikit-learn."
   ]
  },
  {
   "cell_type": "markdown",
   "metadata": {},
   "source": [
    "---\n",
    "## Setup Library dan Dataset"
   ]
  },
  {
   "cell_type": "code",
   "execution_count": 13,
   "metadata": {},
   "outputs": [
    {
     "data": {
      "text/html": [
       "<div>\n",
       "<style scoped>\n",
       "    .dataframe tbody tr th:only-of-type {\n",
       "        vertical-align: middle;\n",
       "    }\n",
       "\n",
       "    .dataframe tbody tr th {\n",
       "        vertical-align: top;\n",
       "    }\n",
       "\n",
       "    .dataframe thead th {\n",
       "        text-align: right;\n",
       "    }\n",
       "</style>\n",
       "<table border=\"1\" class=\"dataframe\">\n",
       "  <thead>\n",
       "    <tr style=\"text-align: right;\">\n",
       "      <th></th>\n",
       "      <th>Outlook</th>\n",
       "      <th>Temperature</th>\n",
       "      <th>Humidity</th>\n",
       "      <th>Wind</th>\n",
       "    </tr>\n",
       "  </thead>\n",
       "  <tbody>\n",
       "    <tr>\n",
       "      <th>0</th>\n",
       "      <td>Sunny</td>\n",
       "      <td>Hot</td>\n",
       "      <td>High</td>\n",
       "      <td>Weak</td>\n",
       "    </tr>\n",
       "    <tr>\n",
       "      <th>1</th>\n",
       "      <td>Sunny</td>\n",
       "      <td>Hot</td>\n",
       "      <td>High</td>\n",
       "      <td>Strong</td>\n",
       "    </tr>\n",
       "    <tr>\n",
       "      <th>2</th>\n",
       "      <td>Overcast</td>\n",
       "      <td>Hot</td>\n",
       "      <td>High</td>\n",
       "      <td>Weak</td>\n",
       "    </tr>\n",
       "    <tr>\n",
       "      <th>3</th>\n",
       "      <td>Rain</td>\n",
       "      <td>Mild</td>\n",
       "      <td>High</td>\n",
       "      <td>Weak</td>\n",
       "    </tr>\n",
       "    <tr>\n",
       "      <th>4</th>\n",
       "      <td>Rain</td>\n",
       "      <td>Cool</td>\n",
       "      <td>Normal</td>\n",
       "      <td>Weak</td>\n",
       "    </tr>\n",
       "  </tbody>\n",
       "</table>\n",
       "</div>"
      ],
      "text/plain": [
       "    Outlook Temperature Humidity    Wind\n",
       "0     Sunny         Hot     High    Weak\n",
       "1     Sunny         Hot     High  Strong\n",
       "2  Overcast         Hot     High    Weak\n",
       "3      Rain        Mild     High    Weak\n",
       "4      Rain        Cool   Normal    Weak"
      ]
     },
     "execution_count": 13,
     "metadata": {},
     "output_type": "execute_result"
    }
   ],
   "source": [
    "import pandas as pd\n",
    "from sklearn.model_selection import train_test_split\n",
    "\n",
    "full_data_X = pd.read_csv('PlayTennis.csv')\n",
    "full_data_X.dropna(axis=0, subset=['Play Tennis'], inplace=True)\n",
    "full_data_Y = full_data_X['Play Tennis']\n",
    "full_data_X.drop(['Play Tennis'], axis=1, inplace=True)\n",
    "X_train_full, X_valid_full, y_train, y_valid = train_test_split(full_data_X, full_data_Y, \n",
    "                                                                train_size=0.8, test_size=0.2)\n",
    "\n",
    "# Select categorical columns with relatively low cardinality (convenient but arbitrary)\n",
    "categorical_cols = [cname for cname in X_train_full.columns if \n",
    "                    X_train_full[cname].dtype == \"object\"]\n",
    "\n",
    "# Select numerical columns\n",
    "numerical_cols = [cname for cname in X_train_full.columns if \n",
    "                X_train_full[cname].dtype in ['int64', 'float64']]\n",
    "\n",
    "full_data_X.head()"
   ]
  },
  {
   "cell_type": "markdown",
   "metadata": {},
   "source": [
    "---\n",
    "## Preprocessing and Pipelining"
   ]
  },
  {
   "cell_type": "code",
   "execution_count": 14,
   "metadata": {},
   "outputs": [],
   "source": [
    "from sklearn.preprocessing import OneHotEncoder\n",
    "from sklearn.impute import SimpleImputer\n",
    "from sklearn.compose import ColumnTransformer\n",
    "from sklearn.pipeline import Pipeline\n",
    "\n",
    "# Preprocessing for numerical data\n",
    "numerical_transformer = SimpleImputer()\n",
    "\n",
    "# Preprocessing for categorical data\n",
    "categorical_transformer = Pipeline(steps=[\n",
    "    ('onehot', OneHotEncoder())\n",
    "])\n",
    "\n",
    "# Bundle preprocessing for numerical and categorical data\n",
    "preprocessor = ColumnTransformer(\n",
    "    transformers=[\n",
    "        ('num', numerical_transformer, numerical_cols),\n",
    "        ('cat', categorical_transformer, categorical_cols)\n",
    "    ])"
   ]
  },
  {
   "cell_type": "markdown",
   "metadata": {},
   "source": [
    "---\n",
    "## Create model"
   ]
  },
  {
   "cell_type": "code",
   "execution_count": 15,
   "metadata": {},
   "outputs": [],
   "source": [
    "from sklearn import tree\n",
    "import six\n",
    "import sys\n",
    "sys.modules['sklearn.externals.six'] = six\n",
    "from id3 import Id3Estimator\n",
    "from sklearn.cluster import KMeans\n",
    "from sklearn.linear_model import LogisticRegression\n",
    "from sklearn.neural_network import MLPClassifier\n",
    "from sklearn.pipeline import make_pipeline\n",
    "from sklearn.preprocessing import StandardScaler\n",
    "from sklearn.svm import SVC\n",
    "\n",
    "# Define model\n",
    "modelDtl = tree.DecisionTreeClassifier(random_state=0)\n",
    "modelID3 = Id3Estimator()\n",
    "kmeans = KMeans(n_clusters=2, random_state=0)\n",
    "modelLogistic = LogisticRegression(random_state=0, max_iter=100)\n",
    "modelNeural = MLPClassifier(random_state=0, max_iter=300)\n",
    "modelSVM = make_pipeline(StandardScaler(), SVC(gamma='auto', random_state=0))\n",
    "\n",
    "# Bundle preprocessing and modeling code in a pipeline\n",
    "dtl = Pipeline(steps=[('preprocessor', preprocessor),\n",
    "                      ('model', modelDtl)\n",
    "                     ])\n",
    "\n",
    "modID3 = Pipeline(steps=[('preprocessor', preprocessor),\n",
    "                      ('model', modelID3)\n",
    "                     ])\n",
    "\n",
    "modelKmeans = Pipeline(steps=[('preprocessor', preprocessor),\n",
    "                      ('model', kmeans)\n",
    "                     ])\n",
    "\n",
    "modlogistic = Pipeline(steps=[('preprocessor', preprocessor),\n",
    "                      ('model', modelLogistic)\n",
    "                     ])\n",
    "\n",
    "modNeural = Pipeline(steps=[('preprocessor', preprocessor),\n",
    "                      ('model', modelNeural)\n",
    "                     ])\n",
    "\n",
    "modSVM = Pipeline(steps=[('preprocessor', preprocessor),\n",
    "                      ('model', modelSVM)\n",
    "                     ])"
   ]
  },
  {
   "cell_type": "markdown",
   "metadata": {},
   "source": [
    "---\n",
    "## Fitting and predict"
   ]
  },
  {
   "cell_type": "markdown",
   "metadata": {},
   "source": [
    "### Decision Tree Learning"
   ]
  },
  {
   "cell_type": "code",
   "execution_count": 16,
   "metadata": {},
   "outputs": [
    {
     "data": {
      "image/svg+xml": [
       "<?xml version=\"1.0\" encoding=\"UTF-8\" standalone=\"no\"?>\r\n",
       "<!DOCTYPE svg PUBLIC \"-//W3C//DTD SVG 1.1//EN\"\r\n",
       " \"http://www.w3.org/Graphics/SVG/1.1/DTD/svg11.dtd\">\r\n",
       "<!-- Generated by graphviz version 2.46.0 (20210118.1747)\r\n",
       " -->\r\n",
       "<!-- Title: Tree Pages: 1 -->\r\n",
       "<svg width=\"427pt\" height=\"477pt\"\r\n",
       " viewBox=\"0.00 0.00 427.00 477.00\" xmlns=\"http://www.w3.org/2000/svg\" xmlns:xlink=\"http://www.w3.org/1999/xlink\">\r\n",
       "<g id=\"graph0\" class=\"graph\" transform=\"scale(1 1) rotate(0) translate(4 473)\">\r\n",
       "<title>Tree</title>\r\n",
       "<polygon fill=\"white\" stroke=\"transparent\" points=\"-4,4 -4,-473 423,-473 423,4 -4,4\"/>\r\n",
       "<!-- 0 -->\r\n",
       "<g id=\"node1\" class=\"node\">\r\n",
       "<title>0</title>\r\n",
       "<polygon fill=\"none\" stroke=\"black\" points=\"383,-469 222,-469 222,-401 383,-401 383,-469\"/>\r\n",
       "<text text-anchor=\"middle\" x=\"302.5\" y=\"-453.8\" font-family=\"Times New Roman,serif\" font-size=\"14.00\">Outlook_Overcast &lt;= 0.5</text>\r\n",
       "<text text-anchor=\"middle\" x=\"302.5\" y=\"-438.8\" font-family=\"Times New Roman,serif\" font-size=\"14.00\">gini = 0.463</text>\r\n",
       "<text text-anchor=\"middle\" x=\"302.5\" y=\"-423.8\" font-family=\"Times New Roman,serif\" font-size=\"14.00\">samples = 11</text>\r\n",
       "<text text-anchor=\"middle\" x=\"302.5\" y=\"-408.8\" font-family=\"Times New Roman,serif\" font-size=\"14.00\">value = [4, 7]</text>\r\n",
       "</g>\r\n",
       "<!-- 1 -->\r\n",
       "<g id=\"node2\" class=\"node\">\r\n",
       "<title>1</title>\r\n",
       "<polygon fill=\"none\" stroke=\"black\" points=\"310,-365 153,-365 153,-297 310,-297 310,-365\"/>\r\n",
       "<text text-anchor=\"middle\" x=\"231.5\" y=\"-349.8\" font-family=\"Times New Roman,serif\" font-size=\"14.00\">Temperature_Hot &lt;= 0.5</text>\r\n",
       "<text text-anchor=\"middle\" x=\"231.5\" y=\"-334.8\" font-family=\"Times New Roman,serif\" font-size=\"14.00\">gini = 0.5</text>\r\n",
       "<text text-anchor=\"middle\" x=\"231.5\" y=\"-319.8\" font-family=\"Times New Roman,serif\" font-size=\"14.00\">samples = 8</text>\r\n",
       "<text text-anchor=\"middle\" x=\"231.5\" y=\"-304.8\" font-family=\"Times New Roman,serif\" font-size=\"14.00\">value = [4, 4]</text>\r\n",
       "</g>\r\n",
       "<!-- 0&#45;&gt;1 -->\r\n",
       "<g id=\"edge1\" class=\"edge\">\r\n",
       "<title>0&#45;&gt;1</title>\r\n",
       "<path fill=\"none\" stroke=\"black\" d=\"M279.45,-400.88C273.37,-392.15 266.74,-382.62 260.4,-373.51\"/>\r\n",
       "<polygon fill=\"black\" stroke=\"black\" points=\"263.26,-371.51 254.68,-365.3 257.52,-375.51 263.26,-371.51\"/>\r\n",
       "<text text-anchor=\"middle\" x=\"250.27\" y=\"-386.21\" font-family=\"Times New Roman,serif\" font-size=\"14.00\">True</text>\r\n",
       "</g>\r\n",
       "<!-- 8 -->\r\n",
       "<g id=\"node9\" class=\"node\">\r\n",
       "<title>8</title>\r\n",
       "<polygon fill=\"none\" stroke=\"black\" points=\"419,-357.5 328,-357.5 328,-304.5 419,-304.5 419,-357.5\"/>\r\n",
       "<text text-anchor=\"middle\" x=\"373.5\" y=\"-342.3\" font-family=\"Times New Roman,serif\" font-size=\"14.00\">gini = 0.0</text>\r\n",
       "<text text-anchor=\"middle\" x=\"373.5\" y=\"-327.3\" font-family=\"Times New Roman,serif\" font-size=\"14.00\">samples = 3</text>\r\n",
       "<text text-anchor=\"middle\" x=\"373.5\" y=\"-312.3\" font-family=\"Times New Roman,serif\" font-size=\"14.00\">value = [0, 3]</text>\r\n",
       "</g>\r\n",
       "<!-- 0&#45;&gt;8 -->\r\n",
       "<g id=\"edge8\" class=\"edge\">\r\n",
       "<title>0&#45;&gt;8</title>\r\n",
       "<path fill=\"none\" stroke=\"black\" d=\"M325.55,-400.88C333.36,-389.67 342.09,-377.13 349.94,-365.85\"/>\r\n",
       "<polygon fill=\"black\" stroke=\"black\" points=\"352.9,-367.73 355.74,-357.52 347.15,-363.73 352.9,-367.73\"/>\r\n",
       "<text text-anchor=\"middle\" x=\"360.15\" y=\"-378.43\" font-family=\"Times New Roman,serif\" font-size=\"14.00\">False</text>\r\n",
       "</g>\r\n",
       "<!-- 2 -->\r\n",
       "<g id=\"node3\" class=\"node\">\r\n",
       "<title>2</title>\r\n",
       "<polygon fill=\"none\" stroke=\"black\" points=\"231.5,-261 103.5,-261 103.5,-193 231.5,-193 231.5,-261\"/>\r\n",
       "<text text-anchor=\"middle\" x=\"167.5\" y=\"-245.8\" font-family=\"Times New Roman,serif\" font-size=\"14.00\">Wind_Weak &lt;= 0.5</text>\r\n",
       "<text text-anchor=\"middle\" x=\"167.5\" y=\"-230.8\" font-family=\"Times New Roman,serif\" font-size=\"14.00\">gini = 0.444</text>\r\n",
       "<text text-anchor=\"middle\" x=\"167.5\" y=\"-215.8\" font-family=\"Times New Roman,serif\" font-size=\"14.00\">samples = 6</text>\r\n",
       "<text text-anchor=\"middle\" x=\"167.5\" y=\"-200.8\" font-family=\"Times New Roman,serif\" font-size=\"14.00\">value = [2, 4]</text>\r\n",
       "</g>\r\n",
       "<!-- 1&#45;&gt;2 -->\r\n",
       "<g id=\"edge2\" class=\"edge\">\r\n",
       "<title>1&#45;&gt;2</title>\r\n",
       "<path fill=\"none\" stroke=\"black\" d=\"M210.72,-296.88C205.3,-288.24 199.39,-278.82 193.72,-269.79\"/>\r\n",
       "<polygon fill=\"black\" stroke=\"black\" points=\"196.67,-267.91 188.39,-261.3 190.74,-271.63 196.67,-267.91\"/>\r\n",
       "</g>\r\n",
       "<!-- 7 -->\r\n",
       "<g id=\"node8\" class=\"node\">\r\n",
       "<title>7</title>\r\n",
       "<polygon fill=\"none\" stroke=\"black\" points=\"341,-253.5 250,-253.5 250,-200.5 341,-200.5 341,-253.5\"/>\r\n",
       "<text text-anchor=\"middle\" x=\"295.5\" y=\"-238.3\" font-family=\"Times New Roman,serif\" font-size=\"14.00\">gini = 0.0</text>\r\n",
       "<text text-anchor=\"middle\" x=\"295.5\" y=\"-223.3\" font-family=\"Times New Roman,serif\" font-size=\"14.00\">samples = 2</text>\r\n",
       "<text text-anchor=\"middle\" x=\"295.5\" y=\"-208.3\" font-family=\"Times New Roman,serif\" font-size=\"14.00\">value = [2, 0]</text>\r\n",
       "</g>\r\n",
       "<!-- 1&#45;&gt;7 -->\r\n",
       "<g id=\"edge7\" class=\"edge\">\r\n",
       "<title>1&#45;&gt;7</title>\r\n",
       "<path fill=\"none\" stroke=\"black\" d=\"M252.28,-296.88C259.25,-285.78 267.03,-273.37 274.05,-262.18\"/>\r\n",
       "<polygon fill=\"black\" stroke=\"black\" points=\"277.14,-263.85 279.49,-253.52 271.21,-260.13 277.14,-263.85\"/>\r\n",
       "</g>\r\n",
       "<!-- 3 -->\r\n",
       "<g id=\"node4\" class=\"node\">\r\n",
       "<title>3</title>\r\n",
       "<polygon fill=\"none\" stroke=\"black\" points=\"172.5,-157 26.5,-157 26.5,-89 172.5,-89 172.5,-157\"/>\r\n",
       "<text text-anchor=\"middle\" x=\"99.5\" y=\"-141.8\" font-family=\"Times New Roman,serif\" font-size=\"14.00\">Outlook_Sunny &lt;= 0.5</text>\r\n",
       "<text text-anchor=\"middle\" x=\"99.5\" y=\"-126.8\" font-family=\"Times New Roman,serif\" font-size=\"14.00\">gini = 0.444</text>\r\n",
       "<text text-anchor=\"middle\" x=\"99.5\" y=\"-111.8\" font-family=\"Times New Roman,serif\" font-size=\"14.00\">samples = 3</text>\r\n",
       "<text text-anchor=\"middle\" x=\"99.5\" y=\"-96.8\" font-family=\"Times New Roman,serif\" font-size=\"14.00\">value = [2, 1]</text>\r\n",
       "</g>\r\n",
       "<!-- 2&#45;&gt;3 -->\r\n",
       "<g id=\"edge3\" class=\"edge\">\r\n",
       "<title>2&#45;&gt;3</title>\r\n",
       "<path fill=\"none\" stroke=\"black\" d=\"M145.42,-192.88C139.66,-184.24 133.38,-174.82 127.36,-165.79\"/>\r\n",
       "<polygon fill=\"black\" stroke=\"black\" points=\"130.16,-163.68 121.7,-157.3 124.33,-167.56 130.16,-163.68\"/>\r\n",
       "</g>\r\n",
       "<!-- 6 -->\r\n",
       "<g id=\"node7\" class=\"node\">\r\n",
       "<title>6</title>\r\n",
       "<polygon fill=\"none\" stroke=\"black\" points=\"282,-149.5 191,-149.5 191,-96.5 282,-96.5 282,-149.5\"/>\r\n",
       "<text text-anchor=\"middle\" x=\"236.5\" y=\"-134.3\" font-family=\"Times New Roman,serif\" font-size=\"14.00\">gini = 0.0</text>\r\n",
       "<text text-anchor=\"middle\" x=\"236.5\" y=\"-119.3\" font-family=\"Times New Roman,serif\" font-size=\"14.00\">samples = 3</text>\r\n",
       "<text text-anchor=\"middle\" x=\"236.5\" y=\"-104.3\" font-family=\"Times New Roman,serif\" font-size=\"14.00\">value = [0, 3]</text>\r\n",
       "</g>\r\n",
       "<!-- 2&#45;&gt;6 -->\r\n",
       "<g id=\"edge6\" class=\"edge\">\r\n",
       "<title>2&#45;&gt;6</title>\r\n",
       "<path fill=\"none\" stroke=\"black\" d=\"M189.9,-192.88C197.49,-181.67 205.97,-169.13 213.6,-157.85\"/>\r\n",
       "<polygon fill=\"black\" stroke=\"black\" points=\"216.53,-159.76 219.24,-149.52 210.73,-155.84 216.53,-159.76\"/>\r\n",
       "</g>\r\n",
       "<!-- 4 -->\r\n",
       "<g id=\"node5\" class=\"node\">\r\n",
       "<title>4</title>\r\n",
       "<polygon fill=\"none\" stroke=\"black\" points=\"91,-53 0,-53 0,0 91,0 91,-53\"/>\r\n",
       "<text text-anchor=\"middle\" x=\"45.5\" y=\"-37.8\" font-family=\"Times New Roman,serif\" font-size=\"14.00\">gini = 0.0</text>\r\n",
       "<text text-anchor=\"middle\" x=\"45.5\" y=\"-22.8\" font-family=\"Times New Roman,serif\" font-size=\"14.00\">samples = 2</text>\r\n",
       "<text text-anchor=\"middle\" x=\"45.5\" y=\"-7.8\" font-family=\"Times New Roman,serif\" font-size=\"14.00\">value = [2, 0]</text>\r\n",
       "</g>\r\n",
       "<!-- 3&#45;&gt;4 -->\r\n",
       "<g id=\"edge4\" class=\"edge\">\r\n",
       "<title>3&#45;&gt;4</title>\r\n",
       "<path fill=\"none\" stroke=\"black\" d=\"M80.61,-88.95C75.65,-80.26 70.28,-70.86 65.27,-62.09\"/>\r\n",
       "<polygon fill=\"black\" stroke=\"black\" points=\"68.21,-60.18 60.21,-53.24 62.13,-63.66 68.21,-60.18\"/>\r\n",
       "</g>\r\n",
       "<!-- 5 -->\r\n",
       "<g id=\"node6\" class=\"node\">\r\n",
       "<title>5</title>\r\n",
       "<polygon fill=\"none\" stroke=\"black\" points=\"200,-53 109,-53 109,0 200,0 200,-53\"/>\r\n",
       "<text text-anchor=\"middle\" x=\"154.5\" y=\"-37.8\" font-family=\"Times New Roman,serif\" font-size=\"14.00\">gini = 0.0</text>\r\n",
       "<text text-anchor=\"middle\" x=\"154.5\" y=\"-22.8\" font-family=\"Times New Roman,serif\" font-size=\"14.00\">samples = 1</text>\r\n",
       "<text text-anchor=\"middle\" x=\"154.5\" y=\"-7.8\" font-family=\"Times New Roman,serif\" font-size=\"14.00\">value = [0, 1]</text>\r\n",
       "</g>\r\n",
       "<!-- 3&#45;&gt;5 -->\r\n",
       "<g id=\"edge5\" class=\"edge\">\r\n",
       "<title>3&#45;&gt;5</title>\r\n",
       "<path fill=\"none\" stroke=\"black\" d=\"M118.74,-88.95C123.79,-80.26 129.26,-70.86 134.37,-62.09\"/>\r\n",
       "<polygon fill=\"black\" stroke=\"black\" points=\"137.52,-63.64 139.52,-53.24 131.47,-60.12 137.52,-63.64\"/>\r\n",
       "</g>\r\n",
       "</g>\r\n",
       "</svg>\r\n"
      ],
      "text/plain": [
       "<graphviz.files.Source at 0x221172688d0>"
      ]
     },
     "execution_count": 16,
     "metadata": {},
     "output_type": "execute_result"
    }
   ],
   "source": [
    "import graphviz\n",
    "# Preprocessing of training data, fit model \n",
    "dtl.fit(X_train_full, y_train)\n",
    "#r = tree.export_text(model, feature_names = [d for d in data.feature_names])\n",
    "dot_data = tree.export_graphviz(modelDtl, \n",
    "                  feature_names=dtl.named_steps['preprocessor'].transformers_[1][1]\\\n",
    "   .named_steps['onehot'].get_feature_names(X_train_full.columns))\n",
    "graph = graphviz.Source(dot_data)\n",
    "\n",
    "# Preprocessing of validation data, get predictions\n",
    "predsDtl = dtl.predict(X_valid_full)\n",
    "graph"
   ]
  },
  {
   "cell_type": "markdown",
   "metadata": {},
   "source": [
    "### ID3 Estimator"
   ]
  },
  {
   "cell_type": "code",
   "execution_count": 17,
   "metadata": {},
   "outputs": [
    {
     "data": {
      "image/svg+xml": [
       "<?xml version=\"1.0\" encoding=\"UTF-8\" standalone=\"no\"?>\r\n",
       "<!DOCTYPE svg PUBLIC \"-//W3C//DTD SVG 1.1//EN\"\r\n",
       " \"http://www.w3.org/Graphics/SVG/1.1/DTD/svg11.dtd\">\r\n",
       "<!-- Generated by graphviz version 2.46.0 (20210118.1747)\r\n",
       " -->\r\n",
       "<!-- Title: ID3_Tree Pages: 1 -->\r\n",
       "<svg width=\"243pt\" height=\"392pt\"\r\n",
       " viewBox=\"0.00 0.00 243.00 392.00\" xmlns=\"http://www.w3.org/2000/svg\" xmlns:xlink=\"http://www.w3.org/1999/xlink\">\r\n",
       "<g id=\"graph0\" class=\"graph\" transform=\"scale(1 1) rotate(0) translate(4 388)\">\r\n",
       "<title>ID3_Tree</title>\r\n",
       "<polygon fill=\"white\" stroke=\"transparent\" points=\"-4,4 -4,-388 239,-388 239,4 -4,4\"/>\r\n",
       "<!-- 0 -->\r\n",
       "<g id=\"node1\" class=\"node\">\r\n",
       "<title>0</title>\r\n",
       "<polygon fill=\"lightgrey\" stroke=\"black\" points=\"217,-384 97,-384 97,-348 217,-348 217,-384\"/>\r\n",
       "<text text-anchor=\"middle\" x=\"157\" y=\"-362.3\" font-family=\"Times New Roman,serif\" font-size=\"14.00\">Outlook_Overcast</text>\r\n",
       "</g>\r\n",
       "<!-- 1 -->\r\n",
       "<g id=\"node2\" class=\"node\">\r\n",
       "<title>1</title>\r\n",
       "<polygon fill=\"lightgrey\" stroke=\"black\" points=\"163,-297 47,-297 47,-261 163,-261 163,-297\"/>\r\n",
       "<text text-anchor=\"middle\" x=\"105\" y=\"-275.3\" font-family=\"Times New Roman,serif\" font-size=\"14.00\">Temperature_Hot</text>\r\n",
       "</g>\r\n",
       "<!-- 0&#45;&gt;1 -->\r\n",
       "<g id=\"edge1\" class=\"edge\">\r\n",
       "<title>0&#45;&gt;1</title>\r\n",
       "<path fill=\"none\" stroke=\"black\" d=\"M146.19,-347.95C142.6,-342.26 138.61,-335.87 135,-330 130.2,-322.19 125.04,-313.65 120.38,-305.87\"/>\r\n",
       "<polygon fill=\"black\" stroke=\"black\" points=\"123.32,-303.97 115.19,-297.18 117.31,-307.56 123.32,-303.97\"/>\r\n",
       "<text text-anchor=\"middle\" x=\"155.5\" y=\"-318.8\" font-family=\"Times New Roman,serif\" font-size=\"14.00\">&lt;=0.50</text>\r\n",
       "</g>\r\n",
       "<!-- 8 -->\r\n",
       "<g id=\"node9\" class=\"node\">\r\n",
       "<title>8</title>\r\n",
       "<polygon fill=\"lightgrey\" stroke=\"black\" points=\"235,-297 181,-297 181,-261 235,-261 235,-297\"/>\r\n",
       "<text text-anchor=\"middle\" x=\"208\" y=\"-275.3\" font-family=\"Times New Roman,serif\" font-size=\"14.00\">Yes(3)</text>\r\n",
       "</g>\r\n",
       "<!-- 0&#45;&gt;8 -->\r\n",
       "<g id=\"edge8\" class=\"edge\">\r\n",
       "<title>0&#45;&gt;8</title>\r\n",
       "<path fill=\"none\" stroke=\"black\" d=\"M167.32,-347.8C174.51,-335.82 184.23,-319.62 192.37,-306.06\"/>\r\n",
       "<polygon fill=\"black\" stroke=\"black\" points=\"195.55,-307.55 197.69,-297.18 189.55,-303.95 195.55,-307.55\"/>\r\n",
       "<text text-anchor=\"middle\" x=\"202.5\" y=\"-318.8\" font-family=\"Times New Roman,serif\" font-size=\"14.00\">&gt;0.50</text>\r\n",
       "</g>\r\n",
       "<!-- 2 -->\r\n",
       "<g id=\"node3\" class=\"node\">\r\n",
       "<title>2</title>\r\n",
       "<polygon fill=\"lightgrey\" stroke=\"black\" points=\"105,-210 13,-210 13,-174 105,-174 105,-210\"/>\r\n",
       "<text text-anchor=\"middle\" x=\"59\" y=\"-188.3\" font-family=\"Times New Roman,serif\" font-size=\"14.00\">Wind_Strong</text>\r\n",
       "</g>\r\n",
       "<!-- 1&#45;&gt;2 -->\r\n",
       "<g id=\"edge2\" class=\"edge\">\r\n",
       "<title>1&#45;&gt;2</title>\r\n",
       "<path fill=\"none\" stroke=\"black\" d=\"M91.49,-260.7C87.52,-255.21 83.35,-249 80,-243 75.87,-235.6 72.05,-227.22 68.83,-219.47\"/>\r\n",
       "<polygon fill=\"black\" stroke=\"black\" points=\"72.05,-218.1 65.1,-210.11 65.55,-220.69 72.05,-218.1\"/>\r\n",
       "<text text-anchor=\"middle\" x=\"100.5\" y=\"-231.8\" font-family=\"Times New Roman,serif\" font-size=\"14.00\">&lt;=0.50</text>\r\n",
       "</g>\r\n",
       "<!-- 7 -->\r\n",
       "<g id=\"node8\" class=\"node\">\r\n",
       "<title>7</title>\r\n",
       "<polygon fill=\"lightgrey\" stroke=\"black\" points=\"177,-210 123,-210 123,-174 177,-174 177,-210\"/>\r\n",
       "<text text-anchor=\"middle\" x=\"150\" y=\"-188.3\" font-family=\"Times New Roman,serif\" font-size=\"14.00\">No(2)</text>\r\n",
       "</g>\r\n",
       "<!-- 1&#45;&gt;7 -->\r\n",
       "<g id=\"edge7\" class=\"edge\">\r\n",
       "<title>1&#45;&gt;7</title>\r\n",
       "<path fill=\"none\" stroke=\"black\" d=\"M114.11,-260.8C120.45,-248.82 129.03,-232.62 136.21,-219.06\"/>\r\n",
       "<polygon fill=\"black\" stroke=\"black\" points=\"139.32,-220.65 140.91,-210.18 133.13,-217.38 139.32,-220.65\"/>\r\n",
       "<text text-anchor=\"middle\" x=\"147.5\" y=\"-231.8\" font-family=\"Times New Roman,serif\" font-size=\"14.00\">&gt;0.50</text>\r\n",
       "</g>\r\n",
       "<!-- 3 -->\r\n",
       "<g id=\"node4\" class=\"node\">\r\n",
       "<title>3</title>\r\n",
       "<polygon fill=\"lightgrey\" stroke=\"black\" points=\"54,-123 0,-123 0,-87 54,-87 54,-123\"/>\r\n",
       "<text text-anchor=\"middle\" x=\"27\" y=\"-101.3\" font-family=\"Times New Roman,serif\" font-size=\"14.00\">Yes(3)</text>\r\n",
       "</g>\r\n",
       "<!-- 2&#45;&gt;3 -->\r\n",
       "<g id=\"edge3\" class=\"edge\">\r\n",
       "<title>2&#45;&gt;3</title>\r\n",
       "<path fill=\"none\" stroke=\"black\" d=\"M49.96,-173.8C47.21,-168.21 44.31,-161.92 42,-156 39.15,-148.69 36.51,-140.6 34.26,-133.09\"/>\r\n",
       "<polygon fill=\"black\" stroke=\"black\" points=\"37.59,-132 31.47,-123.36 30.86,-133.93 37.59,-132\"/>\r\n",
       "<text text-anchor=\"middle\" x=\"62.5\" y=\"-144.8\" font-family=\"Times New Roman,serif\" font-size=\"14.00\">&lt;=0.50</text>\r\n",
       "</g>\r\n",
       "<!-- 4 -->\r\n",
       "<g id=\"node5\" class=\"node\">\r\n",
       "<title>4</title>\r\n",
       "<polygon fill=\"lightgrey\" stroke=\"black\" points=\"167.5,-123 72.5,-123 72.5,-87 167.5,-87 167.5,-123\"/>\r\n",
       "<text text-anchor=\"middle\" x=\"120\" y=\"-101.3\" font-family=\"Times New Roman,serif\" font-size=\"14.00\">Outlook_Rain</text>\r\n",
       "</g>\r\n",
       "<!-- 2&#45;&gt;4 -->\r\n",
       "<g id=\"edge4\" class=\"edge\">\r\n",
       "<title>2&#45;&gt;4</title>\r\n",
       "<path fill=\"none\" stroke=\"black\" d=\"M71.34,-173.8C80.03,-161.7 91.79,-145.3 101.58,-131.67\"/>\r\n",
       "<polygon fill=\"black\" stroke=\"black\" points=\"104.69,-133.34 107.67,-123.18 99,-129.26 104.69,-133.34\"/>\r\n",
       "<text text-anchor=\"middle\" x=\"110.5\" y=\"-144.8\" font-family=\"Times New Roman,serif\" font-size=\"14.00\">&gt;0.50</text>\r\n",
       "</g>\r\n",
       "<!-- 5 -->\r\n",
       "<g id=\"node6\" class=\"node\">\r\n",
       "<title>5</title>\r\n",
       "<polygon fill=\"lightgrey\" stroke=\"black\" points=\"111,-36 57,-36 57,0 111,0 111,-36\"/>\r\n",
       "<text text-anchor=\"middle\" x=\"84\" y=\"-14.3\" font-family=\"Times New Roman,serif\" font-size=\"14.00\">Yes(1)</text>\r\n",
       "</g>\r\n",
       "<!-- 4&#45;&gt;5 -->\r\n",
       "<g id=\"edge5\" class=\"edge\">\r\n",
       "<title>4&#45;&gt;5</title>\r\n",
       "<path fill=\"none\" stroke=\"black\" d=\"M104.2,-86.9C99.97,-81.51 95.8,-75.31 93,-69 89.85,-61.91 87.81,-53.78 86.47,-46.17\"/>\r\n",
       "<polygon fill=\"black\" stroke=\"black\" points=\"89.94,-45.67 85.07,-36.26 83.01,-46.65 89.94,-45.67\"/>\r\n",
       "<text text-anchor=\"middle\" x=\"113.5\" y=\"-57.8\" font-family=\"Times New Roman,serif\" font-size=\"14.00\">&lt;=0.50</text>\r\n",
       "</g>\r\n",
       "<!-- 6 -->\r\n",
       "<g id=\"node7\" class=\"node\">\r\n",
       "<title>6</title>\r\n",
       "<polygon fill=\"lightgrey\" stroke=\"black\" points=\"183,-36 129,-36 129,0 183,0 183,-36\"/>\r\n",
       "<text text-anchor=\"middle\" x=\"156\" y=\"-14.3\" font-family=\"Times New Roman,serif\" font-size=\"14.00\">No(2)</text>\r\n",
       "</g>\r\n",
       "<!-- 4&#45;&gt;6 -->\r\n",
       "<g id=\"edge6\" class=\"edge\">\r\n",
       "<title>4&#45;&gt;6</title>\r\n",
       "<path fill=\"none\" stroke=\"black\" d=\"M127.29,-86.8C132.31,-74.93 139.09,-58.93 144.8,-45.45\"/>\r\n",
       "<polygon fill=\"black\" stroke=\"black\" points=\"148.05,-46.75 148.73,-36.18 141.6,-44.02 148.05,-46.75\"/>\r\n",
       "<text text-anchor=\"middle\" x=\"157.5\" y=\"-57.8\" font-family=\"Times New Roman,serif\" font-size=\"14.00\">&gt;0.50</text>\r\n",
       "</g>\r\n",
       "</g>\r\n",
       "</svg>\r\n"
      ],
      "text/plain": [
       "<graphviz.files.Source at 0x22117268048>"
      ]
     },
     "execution_count": 17,
     "metadata": {},
     "output_type": "execute_result"
    }
   ],
   "source": [
    "from id3 import export_graphviz\n",
    "\n",
    "# Preprocessing of training data, fit model \n",
    "modID3.fit(X_train_full, y_train)\n",
    "\n",
    "#r = tree.export_text(model, feature_names = [d for d in data.feature_names])\n",
    "dot_treeID3 = export_graphviz(modelID3.tree_, 'graph.dot', \n",
    "                  feature_names=dtl.named_steps['preprocessor'].transformers_[1][1]\\\n",
    "   .named_steps['onehot'].get_feature_names(X_train_full.columns), \n",
    "                  )\n",
    "with open(\"graph.dot\") as f:\n",
    "    dot_graphID3 = f.read()\n",
    "graphID3 = graphviz.Source(dot_graphID3)\n",
    "\n",
    "# Preprocessing of validation data, get predictions\n",
    "predsID3 = modID3.predict(X_valid_full)\n",
    "\n",
    "graphID3"
   ]
  },
  {
   "cell_type": "markdown",
   "metadata": {},
   "source": [
    "### K-Means"
   ]
  },
  {
   "cell_type": "code",
   "execution_count": 18,
   "metadata": {},
   "outputs": [
    {
     "data": {
      "text/plain": [
       "['No', 'Yes', 'No']"
      ]
     },
     "execution_count": 18,
     "metadata": {},
     "output_type": "execute_result"
    }
   ],
   "source": [
    "modelKmeans.fit(X_train_full, y_train)\n",
    "\n",
    "predsKmeans = ['Yes' if item==1 else 'No' for item in modelKmeans.predict(X_valid_full)]\n",
    "predsKmeans"
   ]
  },
  {
   "cell_type": "markdown",
   "metadata": {},
   "source": [
    "### Logistic Regression"
   ]
  },
  {
   "cell_type": "code",
   "execution_count": 19,
   "metadata": {},
   "outputs": [
    {
     "data": {
      "text/plain": [
       "array(['Yes', 'Yes', 'Yes'], dtype=object)"
      ]
     },
     "execution_count": 19,
     "metadata": {},
     "output_type": "execute_result"
    }
   ],
   "source": [
    "modlogistic.fit(X_train_full, y_train)\n",
    "\n",
    "predsLogistic = modlogistic.predict(X_valid_full)\n",
    "predsLogistic"
   ]
  },
  {
   "cell_type": "markdown",
   "metadata": {},
   "source": [
    "### Neural Network"
   ]
  },
  {
   "cell_type": "code",
   "execution_count": 20,
   "metadata": {},
   "outputs": [
    {
     "name": "stderr",
     "output_type": "stream",
     "text": [
      "C:\\Python 36-64\\lib\\site-packages\\sklearn\\neural_network\\_multilayer_perceptron.py:585: ConvergenceWarning: Stochastic Optimizer: Maximum iterations (300) reached and the optimization hasn't converged yet.\n",
      "  % self.max_iter, ConvergenceWarning)\n"
     ]
    },
    {
     "data": {
      "text/plain": [
       "array(['Yes', 'Yes', 'Yes'], dtype='<U3')"
      ]
     },
     "execution_count": 20,
     "metadata": {},
     "output_type": "execute_result"
    }
   ],
   "source": [
    "modNeural.fit(X_train_full, y_train)\n",
    "predsNeural = modNeural.predict(X_valid_full)\n",
    "predsNeural"
   ]
  },
  {
   "cell_type": "markdown",
   "metadata": {},
   "source": [
    "### SVM"
   ]
  },
  {
   "cell_type": "code",
   "execution_count": 21,
   "metadata": {},
   "outputs": [
    {
     "data": {
      "text/plain": [
       "array(['Yes', 'Yes', 'Yes'], dtype=object)"
      ]
     },
     "execution_count": 21,
     "metadata": {},
     "output_type": "execute_result"
    }
   ],
   "source": [
    "modSVM.fit(X_train_full, y_train)\n",
    "predsSVM = modSVM.predict(X_valid_full)\n",
    "predsSVM"
   ]
  },
  {
   "cell_type": "markdown",
   "metadata": {},
   "source": [
    "---\n",
    "## Accuracy and F1 Score"
   ]
  },
  {
   "cell_type": "code",
   "execution_count": 22,
   "metadata": {},
   "outputs": [
    {
     "data": {
      "text/html": [
       "<div>\n",
       "<style scoped>\n",
       "    .dataframe tbody tr th:only-of-type {\n",
       "        vertical-align: middle;\n",
       "    }\n",
       "\n",
       "    .dataframe tbody tr th {\n",
       "        vertical-align: top;\n",
       "    }\n",
       "\n",
       "    .dataframe thead th {\n",
       "        text-align: right;\n",
       "    }\n",
       "</style>\n",
       "<table border=\"1\" class=\"dataframe\">\n",
       "  <thead>\n",
       "    <tr style=\"text-align: right;\">\n",
       "      <th></th>\n",
       "      <th>accuracy</th>\n",
       "      <th>f1</th>\n",
       "    </tr>\n",
       "  </thead>\n",
       "  <tbody>\n",
       "    <tr>\n",
       "      <th>Decision Tree Learning</th>\n",
       "      <td>0.666667</td>\n",
       "      <td>0.8</td>\n",
       "    </tr>\n",
       "    <tr>\n",
       "      <th>ID3 Estimator</th>\n",
       "      <td>0.666667</td>\n",
       "      <td>0.8</td>\n",
       "    </tr>\n",
       "    <tr>\n",
       "      <th>K-Means</th>\n",
       "      <td>0.000000</td>\n",
       "      <td>0.0</td>\n",
       "    </tr>\n",
       "    <tr>\n",
       "      <th>Logistic Regression</th>\n",
       "      <td>0.666667</td>\n",
       "      <td>0.8</td>\n",
       "    </tr>\n",
       "    <tr>\n",
       "      <th>Neural Network</th>\n",
       "      <td>0.666667</td>\n",
       "      <td>0.8</td>\n",
       "    </tr>\n",
       "    <tr>\n",
       "      <th>SVM</th>\n",
       "      <td>0.666667</td>\n",
       "      <td>0.8</td>\n",
       "    </tr>\n",
       "  </tbody>\n",
       "</table>\n",
       "</div>"
      ],
      "text/plain": [
       "                        accuracy   f1\n",
       "Decision Tree Learning  0.666667  0.8\n",
       "ID3 Estimator           0.666667  0.8\n",
       "K-Means                 0.000000  0.0\n",
       "Logistic Regression     0.666667  0.8\n",
       "Neural Network          0.666667  0.8\n",
       "SVM                     0.666667  0.8"
      ]
     },
     "execution_count": 22,
     "metadata": {},
     "output_type": "execute_result"
    }
   ],
   "source": [
    "from sklearn.metrics import accuracy_score, f1_score\n",
    "\n",
    "accuracy = [accuracy_score(y_valid, predsDtl),accuracy_score(y_valid, predsID3),accuracy_score(y_valid, predsKmeans),accuracy_score(y_valid, predsLogistic),accuracy_score(y_valid, predsNeural),accuracy_score(y_valid, predsSVM)]\n",
    "f1 = [f1_score(y_valid, predsDtl, pos_label='Yes'), f1_score(y_valid, predsID3, pos_label='Yes'), f1_score(y_valid, predsKmeans, pos_label='Yes'), f1_score(y_valid, predsLogistic, pos_label='Yes'), f1_score(y_valid, predsNeural, pos_label='Yes'), f1_score(y_valid, predsSVM, pos_label='Yes')]\n",
    "score_data = {'accuracy': accuracy, 'f1': f1}\n",
    "score = pd.DataFrame(data = score_data, index=['Decision Tree Learning', 'ID3 Estimator', 'K-Means', 'Logistic Regression', 'Neural Network', 'SVM'])\n",
    "score"
   ]
  },
  {
   "cell_type": "code",
   "execution_count": null,
   "metadata": {},
   "outputs": [],
   "source": []
  }
 ],
 "metadata": {
  "kernelspec": {
   "display_name": "Python 3",
   "language": "python",
   "name": "python3"
  },
  "language_info": {
   "codemirror_mode": {
    "name": "ipython",
    "version": 3
   },
   "file_extension": ".py",
   "mimetype": "text/x-python",
   "name": "python",
   "nbconvert_exporter": "python",
   "pygments_lexer": "ipython3",
   "version": "3.6.8"
  }
 },
 "nbformat": 4,
 "nbformat_minor": 5
}
