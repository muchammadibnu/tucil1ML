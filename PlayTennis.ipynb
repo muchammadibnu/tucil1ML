{
 "cells": [
  {
   "cell_type": "markdown",
   "id": "verified-separate",
   "metadata": {},
   "source": [
    "# Decision Tree Classifier\n",
    "\n",
    "Berikut ini merupakan implementasi machine learning pada dataset playtennis menggunakan library scikit-learn."
   ]
  },
  {
   "cell_type": "markdown",
   "id": "soviet-kansas",
   "metadata": {},
   "source": [
    "---\n",
    "## Setup Library dan Dataset"
   ]
  },
  {
   "cell_type": "code",
   "execution_count": 276,
   "id": "laughing-trademark",
   "metadata": {},
   "outputs": [
    {
     "data": {
      "text/html": [
       "<div>\n",
       "<style scoped>\n",
       "    .dataframe tbody tr th:only-of-type {\n",
       "        vertical-align: middle;\n",
       "    }\n",
       "\n",
       "    .dataframe tbody tr th {\n",
       "        vertical-align: top;\n",
       "    }\n",
       "\n",
       "    .dataframe thead th {\n",
       "        text-align: right;\n",
       "    }\n",
       "</style>\n",
       "<table border=\"1\" class=\"dataframe\">\n",
       "  <thead>\n",
       "    <tr style=\"text-align: right;\">\n",
       "      <th></th>\n",
       "      <th>Outlook</th>\n",
       "      <th>Temperature</th>\n",
       "      <th>Humidity</th>\n",
       "      <th>Wind</th>\n",
       "    </tr>\n",
       "  </thead>\n",
       "  <tbody>\n",
       "    <tr>\n",
       "      <th>0</th>\n",
       "      <td>Sunny</td>\n",
       "      <td>Hot</td>\n",
       "      <td>High</td>\n",
       "      <td>Weak</td>\n",
       "    </tr>\n",
       "    <tr>\n",
       "      <th>1</th>\n",
       "      <td>Sunny</td>\n",
       "      <td>Hot</td>\n",
       "      <td>High</td>\n",
       "      <td>Strong</td>\n",
       "    </tr>\n",
       "    <tr>\n",
       "      <th>2</th>\n",
       "      <td>Overcast</td>\n",
       "      <td>Hot</td>\n",
       "      <td>High</td>\n",
       "      <td>Weak</td>\n",
       "    </tr>\n",
       "    <tr>\n",
       "      <th>3</th>\n",
       "      <td>Rain</td>\n",
       "      <td>Mild</td>\n",
       "      <td>High</td>\n",
       "      <td>Weak</td>\n",
       "    </tr>\n",
       "    <tr>\n",
       "      <th>4</th>\n",
       "      <td>Rain</td>\n",
       "      <td>Cool</td>\n",
       "      <td>Normal</td>\n",
       "      <td>Weak</td>\n",
       "    </tr>\n",
       "  </tbody>\n",
       "</table>\n",
       "</div>"
      ],
      "text/plain": [
       "    Outlook Temperature Humidity    Wind\n",
       "0     Sunny         Hot     High    Weak\n",
       "1     Sunny         Hot     High  Strong\n",
       "2  Overcast         Hot     High    Weak\n",
       "3      Rain        Mild     High    Weak\n",
       "4      Rain        Cool   Normal    Weak"
      ]
     },
     "execution_count": 276,
     "metadata": {},
     "output_type": "execute_result"
    }
   ],
   "source": [
    "import pandas as pd\n",
    "from sklearn.model_selection import train_test_split\n",
    "\n",
    "full_data_X = pd.read_csv('PlayTennis.csv')\n",
    "full_data_X.dropna(axis=0, subset=['Play Tennis'], inplace=True)\n",
    "full_data_Y = full_data_X['Play Tennis']\n",
    "full_data_X.drop(['Play Tennis'], axis=1, inplace=True)\n",
    "X_train_full, X_valid_full, y_train, y_valid = train_test_split(full_data_X, full_data_Y, \n",
    "                                                                train_size=0.8, test_size=0.2)\n",
    "\n",
    "# Select categorical columns with relatively low cardinality (convenient but arbitrary)\n",
    "categorical_cols = [cname for cname in X_train_full.columns if \n",
    "                    X_train_full[cname].dtype == \"object\"]\n",
    "\n",
    "# Select numerical columns\n",
    "numerical_cols = [cname for cname in X_train_full.columns if \n",
    "                X_train_full[cname].dtype in ['int64', 'float64']]\n",
    "\n",
    "full_data_X.head()"
   ]
  },
  {
   "cell_type": "markdown",
   "id": "caring-violence",
   "metadata": {},
   "source": [
    "---\n",
    "## Preprocessing and Pipelining"
   ]
  },
  {
   "cell_type": "code",
   "execution_count": 277,
   "id": "relevant-spiritual",
   "metadata": {},
   "outputs": [],
   "source": [
    "from sklearn.preprocessing import OneHotEncoder\n",
    "from sklearn.impute import SimpleImputer\n",
    "from sklearn.compose import ColumnTransformer\n",
    "from sklearn.pipeline import Pipeline\n",
    "\n",
    "# Preprocessing for numerical data\n",
    "numerical_transformer = SimpleImputer()\n",
    "\n",
    "# Preprocessing for categorical data\n",
    "categorical_transformer = Pipeline(steps=[\n",
    "    ('onehot', OneHotEncoder())\n",
    "])\n",
    "\n",
    "# Bundle preprocessing for numerical and categorical data\n",
    "preprocessor = ColumnTransformer(\n",
    "    transformers=[\n",
    "        ('num', numerical_transformer, numerical_cols),\n",
    "        ('cat', categorical_transformer, categorical_cols)\n",
    "    ])"
   ]
  },
  {
   "cell_type": "markdown",
   "id": "controlling-ideal",
   "metadata": {},
   "source": [
    "---\n",
    "## Create model"
   ]
  },
  {
   "cell_type": "code",
   "execution_count": 278,
   "id": "pleasant-break",
   "metadata": {},
   "outputs": [],
   "source": [
    "from sklearn import tree\n",
    "import six\n",
    "import sys\n",
    "sys.modules['sklearn.externals.six'] = six\n",
    "from id3 import Id3Estimator\n",
    "from sklearn.cluster import KMeans\n",
    "from sklearn.linear_model import LogisticRegression\n",
    "from sklearn.neural_network import MLPClassifier\n",
    "from sklearn.pipeline import make_pipeline\n",
    "from sklearn.preprocessing import StandardScaler\n",
    "from sklearn.svm import SVC\n",
    "\n",
    "# Define model\n",
    "modelDtl = tree.DecisionTreeClassifier(random_state=0)\n",
    "modelID3 = Id3Estimator()\n",
    "kmeans = KMeans(n_clusters=2, random_state=0)\n",
    "modelLogistic = LogisticRegression(random_state=0, max_iter=100)\n",
    "modelNeural = MLPClassifier(random_state=0, max_iter=300)\n",
    "modelSVM = make_pipeline(StandardScaler(), SVC(gamma='auto', random_state=0))\n",
    "\n",
    "# Bundle preprocessing and modeling code in a pipeline\n",
    "dtl = Pipeline(steps=[('preprocessor', preprocessor),\n",
    "                      ('model', modelDtl)\n",
    "                     ])\n",
    "\n",
    "modID3 = Pipeline(steps=[('preprocessor', preprocessor),\n",
    "                      ('model', modelID3)\n",
    "                     ])\n",
    "\n",
    "modelKmeans = Pipeline(steps=[('preprocessor', preprocessor),\n",
    "                      ('model', kmeans)\n",
    "                     ])\n",
    "\n",
    "modlogistic = Pipeline(steps=[('preprocessor', preprocessor),\n",
    "                      ('model', modelLogistic)\n",
    "                     ])\n",
    "\n",
    "modNeural = Pipeline(steps=[('preprocessor', preprocessor),\n",
    "                      ('model', modelNeural)\n",
    "                     ])\n",
    "\n",
    "modSVM = Pipeline(steps=[('preprocessor', preprocessor),\n",
    "                      ('model', modelSVM)\n",
    "                     ])"
   ]
  },
  {
   "cell_type": "markdown",
   "id": "surface-appearance",
   "metadata": {},
   "source": [
    "---\n",
    "## Fitting and predict"
   ]
  },
  {
   "cell_type": "markdown",
   "id": "cubic-sunday",
   "metadata": {},
   "source": [
    "### Decision Tree Learning"
   ]
  },
  {
   "cell_type": "code",
   "execution_count": 279,
   "id": "cloudy-edinburgh",
   "metadata": {},
   "outputs": [
    {
     "data": {
      "image/svg+xml": [
       "<?xml version=\"1.0\" encoding=\"UTF-8\" standalone=\"no\"?>\n",
       "<!DOCTYPE svg PUBLIC \"-//W3C//DTD SVG 1.1//EN\"\n",
       " \"http://www.w3.org/Graphics/SVG/1.1/DTD/svg11.dtd\">\n",
       "<!-- Generated by graphviz version 2.43.0 (0)\n",
       " -->\n",
       "<!-- Title: Tree Pages: 1 -->\n",
       "<svg width=\"664pt\" height=\"373pt\"\n",
       " viewBox=\"0.00 0.00 664.00 373.00\" xmlns=\"http://www.w3.org/2000/svg\" xmlns:xlink=\"http://www.w3.org/1999/xlink\">\n",
       "<g id=\"graph0\" class=\"graph\" transform=\"scale(1 1) rotate(0) translate(4 369)\">\n",
       "<title>Tree</title>\n",
       "<polygon fill=\"white\" stroke=\"transparent\" points=\"-4,4 -4,-369 660,-369 660,4 -4,4\"/>\n",
       "<!-- 0 -->\n",
       "<g id=\"node1\" class=\"node\">\n",
       "<title>0</title>\n",
       "<polygon fill=\"none\" stroke=\"black\" points=\"382.5,-365 228.5,-365 228.5,-297 382.5,-297 382.5,-365\"/>\n",
       "<text text-anchor=\"middle\" x=\"305.5\" y=\"-349.8\" font-family=\"Times,serif\" font-size=\"14.00\">Wind_Weak &lt;= 0.5</text>\n",
       "<text text-anchor=\"middle\" x=\"305.5\" y=\"-334.8\" font-family=\"Times,serif\" font-size=\"14.00\">gini = 0.463</text>\n",
       "<text text-anchor=\"middle\" x=\"305.5\" y=\"-319.8\" font-family=\"Times,serif\" font-size=\"14.00\">samples = 11</text>\n",
       "<text text-anchor=\"middle\" x=\"305.5\" y=\"-304.8\" font-family=\"Times,serif\" font-size=\"14.00\">value = [4, 7]</text>\n",
       "</g>\n",
       "<!-- 1 -->\n",
       "<g id=\"node2\" class=\"node\">\n",
       "<title>1</title>\n",
       "<polygon fill=\"none\" stroke=\"black\" points=\"303,-261 100,-261 100,-193 303,-193 303,-261\"/>\n",
       "<text text-anchor=\"middle\" x=\"201.5\" y=\"-245.8\" font-family=\"Times,serif\" font-size=\"14.00\">Temperature_Mild &lt;= 0.5</text>\n",
       "<text text-anchor=\"middle\" x=\"201.5\" y=\"-230.8\" font-family=\"Times,serif\" font-size=\"14.00\">gini = 0.48</text>\n",
       "<text text-anchor=\"middle\" x=\"201.5\" y=\"-215.8\" font-family=\"Times,serif\" font-size=\"14.00\">samples = 5</text>\n",
       "<text text-anchor=\"middle\" x=\"201.5\" y=\"-200.8\" font-family=\"Times,serif\" font-size=\"14.00\">value = [3, 2]</text>\n",
       "</g>\n",
       "<!-- 0&#45;&gt;1 -->\n",
       "<g id=\"edge1\" class=\"edge\">\n",
       "<title>0&#45;&gt;1</title>\n",
       "<path fill=\"none\" stroke=\"black\" d=\"M271.73,-296.88C262.47,-287.8 252.32,-277.85 242.69,-268.4\"/>\n",
       "<polygon fill=\"black\" stroke=\"black\" points=\"245.04,-265.8 235.45,-261.3 240.14,-270.8 245.04,-265.8\"/>\n",
       "<text text-anchor=\"middle\" x=\"235.69\" y=\"-282.6\" font-family=\"Times,serif\" font-size=\"14.00\">True</text>\n",
       "</g>\n",
       "<!-- 6 -->\n",
       "<g id=\"node7\" class=\"node\">\n",
       "<title>6</title>\n",
       "<polygon fill=\"none\" stroke=\"black\" points=\"500,-261 321,-261 321,-193 500,-193 500,-261\"/>\n",
       "<text text-anchor=\"middle\" x=\"410.5\" y=\"-245.8\" font-family=\"Times,serif\" font-size=\"14.00\">Outlook_Sunny &lt;= 0.5</text>\n",
       "<text text-anchor=\"middle\" x=\"410.5\" y=\"-230.8\" font-family=\"Times,serif\" font-size=\"14.00\">gini = 0.278</text>\n",
       "<text text-anchor=\"middle\" x=\"410.5\" y=\"-215.8\" font-family=\"Times,serif\" font-size=\"14.00\">samples = 6</text>\n",
       "<text text-anchor=\"middle\" x=\"410.5\" y=\"-200.8\" font-family=\"Times,serif\" font-size=\"14.00\">value = [1, 5]</text>\n",
       "</g>\n",
       "<!-- 0&#45;&gt;6 -->\n",
       "<g id=\"edge6\" class=\"edge\">\n",
       "<title>0&#45;&gt;6</title>\n",
       "<path fill=\"none\" stroke=\"black\" d=\"M339.59,-296.88C348.94,-287.8 359.19,-277.85 368.91,-268.4\"/>\n",
       "<polygon fill=\"black\" stroke=\"black\" points=\"371.49,-270.78 376.22,-261.3 366.61,-265.76 371.49,-270.78\"/>\n",
       "<text text-anchor=\"middle\" x=\"375.86\" y=\"-282.6\" font-family=\"Times,serif\" font-size=\"14.00\">False</text>\n",
       "</g>\n",
       "<!-- 2 -->\n",
       "<g id=\"node3\" class=\"node\">\n",
       "<title>2</title>\n",
       "<polygon fill=\"none\" stroke=\"black\" points=\"113,-149.5 0,-149.5 0,-96.5 113,-96.5 113,-149.5\"/>\n",
       "<text text-anchor=\"middle\" x=\"56.5\" y=\"-134.3\" font-family=\"Times,serif\" font-size=\"14.00\">gini = 0.0</text>\n",
       "<text text-anchor=\"middle\" x=\"56.5\" y=\"-119.3\" font-family=\"Times,serif\" font-size=\"14.00\">samples = 2</text>\n",
       "<text text-anchor=\"middle\" x=\"56.5\" y=\"-104.3\" font-family=\"Times,serif\" font-size=\"14.00\">value = [2, 0]</text>\n",
       "</g>\n",
       "<!-- 1&#45;&gt;2 -->\n",
       "<g id=\"edge2\" class=\"edge\">\n",
       "<title>1&#45;&gt;2</title>\n",
       "<path fill=\"none\" stroke=\"black\" d=\"M154.42,-192.88C137.38,-180.9 118.19,-167.4 101.35,-155.55\"/>\n",
       "<polygon fill=\"black\" stroke=\"black\" points=\"102.97,-152.41 92.78,-149.52 98.94,-158.14 102.97,-152.41\"/>\n",
       "</g>\n",
       "<!-- 3 -->\n",
       "<g id=\"node4\" class=\"node\">\n",
       "<title>3</title>\n",
       "<polygon fill=\"none\" stroke=\"black\" points=\"298,-157 131,-157 131,-89 298,-89 298,-157\"/>\n",
       "<text text-anchor=\"middle\" x=\"214.5\" y=\"-141.8\" font-family=\"Times,serif\" font-size=\"14.00\">Outlook_Rain &lt;= 0.5</text>\n",
       "<text text-anchor=\"middle\" x=\"214.5\" y=\"-126.8\" font-family=\"Times,serif\" font-size=\"14.00\">gini = 0.444</text>\n",
       "<text text-anchor=\"middle\" x=\"214.5\" y=\"-111.8\" font-family=\"Times,serif\" font-size=\"14.00\">samples = 3</text>\n",
       "<text text-anchor=\"middle\" x=\"214.5\" y=\"-96.8\" font-family=\"Times,serif\" font-size=\"14.00\">value = [1, 2]</text>\n",
       "</g>\n",
       "<!-- 1&#45;&gt;3 -->\n",
       "<g id=\"edge3\" class=\"edge\">\n",
       "<title>1&#45;&gt;3</title>\n",
       "<path fill=\"none\" stroke=\"black\" d=\"M205.72,-192.88C206.75,-184.78 207.87,-175.98 208.96,-167.47\"/>\n",
       "<polygon fill=\"black\" stroke=\"black\" points=\"212.46,-167.66 210.26,-157.3 205.52,-166.78 212.46,-167.66\"/>\n",
       "</g>\n",
       "<!-- 4 -->\n",
       "<g id=\"node5\" class=\"node\">\n",
       "<title>4</title>\n",
       "<polygon fill=\"none\" stroke=\"black\" points=\"233,-53 120,-53 120,0 233,0 233,-53\"/>\n",
       "<text text-anchor=\"middle\" x=\"176.5\" y=\"-37.8\" font-family=\"Times,serif\" font-size=\"14.00\">gini = 0.0</text>\n",
       "<text text-anchor=\"middle\" x=\"176.5\" y=\"-22.8\" font-family=\"Times,serif\" font-size=\"14.00\">samples = 2</text>\n",
       "<text text-anchor=\"middle\" x=\"176.5\" y=\"-7.8\" font-family=\"Times,serif\" font-size=\"14.00\">value = [0, 2]</text>\n",
       "</g>\n",
       "<!-- 3&#45;&gt;4 -->\n",
       "<g id=\"edge4\" class=\"edge\">\n",
       "<title>3&#45;&gt;4</title>\n",
       "<path fill=\"none\" stroke=\"black\" d=\"M201.21,-88.95C197.79,-80.44 194.1,-71.26 190.63,-62.65\"/>\n",
       "<polygon fill=\"black\" stroke=\"black\" points=\"193.83,-61.21 186.85,-53.24 187.33,-63.82 193.83,-61.21\"/>\n",
       "</g>\n",
       "<!-- 5 -->\n",
       "<g id=\"node6\" class=\"node\">\n",
       "<title>5</title>\n",
       "<polygon fill=\"none\" stroke=\"black\" points=\"364,-53 251,-53 251,0 364,0 364,-53\"/>\n",
       "<text text-anchor=\"middle\" x=\"307.5\" y=\"-37.8\" font-family=\"Times,serif\" font-size=\"14.00\">gini = 0.0</text>\n",
       "<text text-anchor=\"middle\" x=\"307.5\" y=\"-22.8\" font-family=\"Times,serif\" font-size=\"14.00\">samples = 1</text>\n",
       "<text text-anchor=\"middle\" x=\"307.5\" y=\"-7.8\" font-family=\"Times,serif\" font-size=\"14.00\">value = [1, 0]</text>\n",
       "</g>\n",
       "<!-- 3&#45;&gt;5 -->\n",
       "<g id=\"edge5\" class=\"edge\">\n",
       "<title>3&#45;&gt;5</title>\n",
       "<path fill=\"none\" stroke=\"black\" d=\"M247.03,-88.95C256.12,-79.71 266,-69.67 275.08,-60.44\"/>\n",
       "<polygon fill=\"black\" stroke=\"black\" points=\"277.65,-62.82 282.17,-53.24 272.66,-57.91 277.65,-62.82\"/>\n",
       "</g>\n",
       "<!-- 7 -->\n",
       "<g id=\"node8\" class=\"node\">\n",
       "<title>7</title>\n",
       "<polygon fill=\"none\" stroke=\"black\" points=\"454,-149.5 341,-149.5 341,-96.5 454,-96.5 454,-149.5\"/>\n",
       "<text text-anchor=\"middle\" x=\"397.5\" y=\"-134.3\" font-family=\"Times,serif\" font-size=\"14.00\">gini = 0.0</text>\n",
       "<text text-anchor=\"middle\" x=\"397.5\" y=\"-119.3\" font-family=\"Times,serif\" font-size=\"14.00\">samples = 4</text>\n",
       "<text text-anchor=\"middle\" x=\"397.5\" y=\"-104.3\" font-family=\"Times,serif\" font-size=\"14.00\">value = [0, 4]</text>\n",
       "</g>\n",
       "<!-- 6&#45;&gt;7 -->\n",
       "<g id=\"edge7\" class=\"edge\">\n",
       "<title>6&#45;&gt;7</title>\n",
       "<path fill=\"none\" stroke=\"black\" d=\"M406.28,-192.88C404.92,-182.22 403.41,-170.35 402.03,-159.52\"/>\n",
       "<polygon fill=\"black\" stroke=\"black\" points=\"405.49,-159 400.75,-149.52 398.54,-159.88 405.49,-159\"/>\n",
       "</g>\n",
       "<!-- 8 -->\n",
       "<g id=\"node9\" class=\"node\">\n",
       "<title>8</title>\n",
       "<polygon fill=\"none\" stroke=\"black\" points=\"652.5,-157 472.5,-157 472.5,-89 652.5,-89 652.5,-157\"/>\n",
       "<text text-anchor=\"middle\" x=\"562.5\" y=\"-141.8\" font-family=\"Times,serif\" font-size=\"14.00\">Humidity_High &lt;= 0.5</text>\n",
       "<text text-anchor=\"middle\" x=\"562.5\" y=\"-126.8\" font-family=\"Times,serif\" font-size=\"14.00\">gini = 0.5</text>\n",
       "<text text-anchor=\"middle\" x=\"562.5\" y=\"-111.8\" font-family=\"Times,serif\" font-size=\"14.00\">samples = 2</text>\n",
       "<text text-anchor=\"middle\" x=\"562.5\" y=\"-96.8\" font-family=\"Times,serif\" font-size=\"14.00\">value = [1, 1]</text>\n",
       "</g>\n",
       "<!-- 6&#45;&gt;8 -->\n",
       "<g id=\"edge8\" class=\"edge\">\n",
       "<title>6&#45;&gt;8</title>\n",
       "<path fill=\"none\" stroke=\"black\" d=\"M459.85,-192.88C474.13,-183.3 489.84,-172.76 504.58,-162.86\"/>\n",
       "<polygon fill=\"black\" stroke=\"black\" points=\"506.78,-165.6 513.14,-157.12 502.88,-159.79 506.78,-165.6\"/>\n",
       "</g>\n",
       "<!-- 9 -->\n",
       "<g id=\"node10\" class=\"node\">\n",
       "<title>9</title>\n",
       "<polygon fill=\"none\" stroke=\"black\" points=\"525,-53 412,-53 412,0 525,0 525,-53\"/>\n",
       "<text text-anchor=\"middle\" x=\"468.5\" y=\"-37.8\" font-family=\"Times,serif\" font-size=\"14.00\">gini = 0.0</text>\n",
       "<text text-anchor=\"middle\" x=\"468.5\" y=\"-22.8\" font-family=\"Times,serif\" font-size=\"14.00\">samples = 1</text>\n",
       "<text text-anchor=\"middle\" x=\"468.5\" y=\"-7.8\" font-family=\"Times,serif\" font-size=\"14.00\">value = [0, 1]</text>\n",
       "</g>\n",
       "<!-- 8&#45;&gt;9 -->\n",
       "<g id=\"edge9\" class=\"edge\">\n",
       "<title>8&#45;&gt;9</title>\n",
       "<path fill=\"none\" stroke=\"black\" d=\"M529.62,-88.95C520.43,-79.71 510.45,-69.67 501.26,-60.44\"/>\n",
       "<polygon fill=\"black\" stroke=\"black\" points=\"503.63,-57.86 494.1,-53.24 498.67,-62.79 503.63,-57.86\"/>\n",
       "</g>\n",
       "<!-- 10 -->\n",
       "<g id=\"node11\" class=\"node\">\n",
       "<title>10</title>\n",
       "<polygon fill=\"none\" stroke=\"black\" points=\"656,-53 543,-53 543,0 656,0 656,-53\"/>\n",
       "<text text-anchor=\"middle\" x=\"599.5\" y=\"-37.8\" font-family=\"Times,serif\" font-size=\"14.00\">gini = 0.0</text>\n",
       "<text text-anchor=\"middle\" x=\"599.5\" y=\"-22.8\" font-family=\"Times,serif\" font-size=\"14.00\">samples = 1</text>\n",
       "<text text-anchor=\"middle\" x=\"599.5\" y=\"-7.8\" font-family=\"Times,serif\" font-size=\"14.00\">value = [1, 0]</text>\n",
       "</g>\n",
       "<!-- 8&#45;&gt;10 -->\n",
       "<g id=\"edge10\" class=\"edge\">\n",
       "<title>8&#45;&gt;10</title>\n",
       "<path fill=\"none\" stroke=\"black\" d=\"M575.44,-88.95C578.77,-80.44 582.37,-71.26 585.74,-62.65\"/>\n",
       "<polygon fill=\"black\" stroke=\"black\" points=\"589.04,-63.82 589.42,-53.24 582.52,-61.27 589.04,-63.82\"/>\n",
       "</g>\n",
       "</g>\n",
       "</svg>\n"
      ],
      "text/plain": [
       "<graphviz.files.Source at 0x7f3b21ce5910>"
      ]
     },
     "execution_count": 279,
     "metadata": {},
     "output_type": "execute_result"
    }
   ],
   "source": [
    "import graphviz\n",
    "# Preprocessing of training data, fit model \n",
    "dtl.fit(X_train_full, y_train)\n",
    "#r = tree.export_text(model, feature_names = [d for d in data.feature_names])\n",
    "dot_data = tree.export_graphviz(model, \n",
    "                  feature_names=dtl.named_steps['preprocessor'].transformers_[1][1]\\\n",
    "   .named_steps['onehot'].get_feature_names(X_train_full.columns))\n",
    "graph = graphviz.Source(dot_data)\n",
    "\n",
    "# Preprocessing of validation data, get predictions\n",
    "predsDtl = dtl.predict(X_valid_full)\n",
    "graph"
   ]
  },
  {
   "cell_type": "markdown",
   "id": "upper-strap",
   "metadata": {},
   "source": [
    "### ID3 Estimator"
   ]
  },
  {
   "cell_type": "code",
   "execution_count": 280,
   "id": "historic-completion",
   "metadata": {},
   "outputs": [
    {
     "data": {
      "image/svg+xml": [
       "<?xml version=\"1.0\" encoding=\"UTF-8\" standalone=\"no\"?>\n",
       "<!DOCTYPE svg PUBLIC \"-//W3C//DTD SVG 1.1//EN\"\n",
       " \"http://www.w3.org/Graphics/SVG/1.1/DTD/svg11.dtd\">\n",
       "<!-- Generated by graphviz version 2.43.0 (0)\n",
       " -->\n",
       "<!-- Title: ID3_Tree Pages: 1 -->\n",
       "<svg width=\"271pt\" height=\"400pt\"\n",
       " viewBox=\"0.00 0.00 271.00 400.00\" xmlns=\"http://www.w3.org/2000/svg\" xmlns:xlink=\"http://www.w3.org/1999/xlink\">\n",
       "<g id=\"graph0\" class=\"graph\" transform=\"scale(1 1) rotate(0) translate(4 396)\">\n",
       "<title>ID3_Tree</title>\n",
       "<polygon fill=\"white\" stroke=\"transparent\" points=\"-4,4 -4,-396 267,-396 267,4 -4,4\"/>\n",
       "<!-- 0 -->\n",
       "<g id=\"node1\" class=\"node\">\n",
       "<title>0</title>\n",
       "<polygon fill=\"lightgrey\" stroke=\"black\" points=\"245.5,-392 102.5,-392 102.5,-356 245.5,-356 245.5,-392\"/>\n",
       "<text text-anchor=\"middle\" x=\"174\" y=\"-370.3\" font-family=\"Times,serif\" font-size=\"14.00\">Outlook_Overcast</text>\n",
       "</g>\n",
       "<!-- 1 -->\n",
       "<g id=\"node2\" class=\"node\">\n",
       "<title>1</title>\n",
       "<polygon fill=\"lightgrey\" stroke=\"black\" points=\"187,-304 45,-304 45,-268 187,-268 187,-304\"/>\n",
       "<text text-anchor=\"middle\" x=\"116\" y=\"-282.3\" font-family=\"Times,serif\" font-size=\"14.00\">Temperature_Hot</text>\n",
       "</g>\n",
       "<!-- 0&#45;&gt;1 -->\n",
       "<g id=\"edge1\" class=\"edge\">\n",
       "<title>0&#45;&gt;1</title>\n",
       "<path fill=\"none\" stroke=\"black\" d=\"M162.26,-355.6C153.95,-343.28 142.67,-326.55 133.33,-312.7\"/>\n",
       "<polygon fill=\"black\" stroke=\"black\" points=\"136.01,-310.42 127.52,-304.08 130.21,-314.33 136.01,-310.42\"/>\n",
       "<text text-anchor=\"middle\" x=\"179\" y=\"-326.8\" font-family=\"Times,serif\" font-size=\"14.00\">&lt;=0.50</text>\n",
       "</g>\n",
       "<!-- 8 -->\n",
       "<g id=\"node9\" class=\"node\">\n",
       "<title>8</title>\n",
       "<polygon fill=\"lightgrey\" stroke=\"black\" points=\"259,-305 205,-305 205,-267 259,-267 259,-305\"/>\n",
       "<text text-anchor=\"middle\" x=\"232\" y=\"-289.8\" font-family=\"Times,serif\" font-size=\"14.00\">Yes</text>\n",
       "<text text-anchor=\"middle\" x=\"232\" y=\"-274.8\" font-family=\"Times,serif\" font-size=\"14.00\">(3)</text>\n",
       "</g>\n",
       "<!-- 0&#45;&gt;8 -->\n",
       "<g id=\"edge8\" class=\"edge\">\n",
       "<title>0&#45;&gt;8</title>\n",
       "<path fill=\"none\" stroke=\"black\" d=\"M194.54,-355.72C200.03,-350.43 205.65,-344.32 210,-338 214.85,-330.97 218.97,-322.69 222.3,-314.88\"/>\n",
       "<polygon fill=\"black\" stroke=\"black\" points=\"225.64,-315.94 226.08,-305.36 219.14,-313.36 225.64,-315.94\"/>\n",
       "<text text-anchor=\"middle\" x=\"241\" y=\"-326.8\" font-family=\"Times,serif\" font-size=\"14.00\">&gt;0.50</text>\n",
       "</g>\n",
       "<!-- 2 -->\n",
       "<g id=\"node3\" class=\"node\">\n",
       "<title>2</title>\n",
       "<polygon fill=\"lightgrey\" stroke=\"black\" points=\"120.5,-215 11.5,-215 11.5,-179 120.5,-179 120.5,-215\"/>\n",
       "<text text-anchor=\"middle\" x=\"66\" y=\"-193.3\" font-family=\"Times,serif\" font-size=\"14.00\">Wind_Strong</text>\n",
       "</g>\n",
       "<!-- 1&#45;&gt;2 -->\n",
       "<g id=\"edge2\" class=\"edge\">\n",
       "<title>1&#45;&gt;2</title>\n",
       "<path fill=\"none\" stroke=\"black\" d=\"M101.11,-267.69C96.57,-261.96 91.79,-255.41 88,-249 83.46,-241.33 79.33,-232.55 75.91,-224.46\"/>\n",
       "<polygon fill=\"black\" stroke=\"black\" points=\"79.1,-223.02 72.1,-215.06 72.61,-225.64 79.1,-223.02\"/>\n",
       "<text text-anchor=\"middle\" x=\"116\" y=\"-237.8\" font-family=\"Times,serif\" font-size=\"14.00\">&lt;=0.50</text>\n",
       "</g>\n",
       "<!-- 7 -->\n",
       "<g id=\"node8\" class=\"node\">\n",
       "<title>7</title>\n",
       "<polygon fill=\"lightgrey\" stroke=\"black\" points=\"193,-216 139,-216 139,-178 193,-178 193,-216\"/>\n",
       "<text text-anchor=\"middle\" x=\"166\" y=\"-200.8\" font-family=\"Times,serif\" font-size=\"14.00\">No</text>\n",
       "<text text-anchor=\"middle\" x=\"166\" y=\"-185.8\" font-family=\"Times,serif\" font-size=\"14.00\">(2)</text>\n",
       "</g>\n",
       "<!-- 1&#45;&gt;7 -->\n",
       "<g id=\"edge7\" class=\"edge\">\n",
       "<title>1&#45;&gt;7</title>\n",
       "<path fill=\"none\" stroke=\"black\" d=\"M130.89,-267.69C135.43,-261.96 140.21,-255.41 144,-249 148.35,-241.65 152.32,-233.28 155.66,-225.47\"/>\n",
       "<polygon fill=\"black\" stroke=\"black\" points=\"158.98,-226.59 159.53,-216.01 152.5,-223.94 158.98,-226.59\"/>\n",
       "<text text-anchor=\"middle\" x=\"174\" y=\"-237.8\" font-family=\"Times,serif\" font-size=\"14.00\">&gt;0.50</text>\n",
       "</g>\n",
       "<!-- 3 -->\n",
       "<g id=\"node4\" class=\"node\">\n",
       "<title>3</title>\n",
       "<polygon fill=\"lightgrey\" stroke=\"black\" points=\"54,-127 0,-127 0,-89 54,-89 54,-127\"/>\n",
       "<text text-anchor=\"middle\" x=\"27\" y=\"-111.8\" font-family=\"Times,serif\" font-size=\"14.00\">Yes</text>\n",
       "<text text-anchor=\"middle\" x=\"27\" y=\"-96.8\" font-family=\"Times,serif\" font-size=\"14.00\">(3)</text>\n",
       "</g>\n",
       "<!-- 2&#45;&gt;3 -->\n",
       "<g id=\"edge3\" class=\"edge\">\n",
       "<title>2&#45;&gt;3</title>\n",
       "<path fill=\"none\" stroke=\"black\" d=\"M50.98,-178.99C46.58,-173.27 42.11,-166.65 39,-160 35.66,-152.86 33.21,-144.72 31.43,-137.06\"/>\n",
       "<polygon fill=\"black\" stroke=\"black\" points=\"34.82,-136.16 29.39,-127.07 27.96,-137.56 34.82,-136.16\"/>\n",
       "<text text-anchor=\"middle\" x=\"67\" y=\"-148.8\" font-family=\"Times,serif\" font-size=\"14.00\">&lt;=0.50</text>\n",
       "</g>\n",
       "<!-- 4 -->\n",
       "<g id=\"node5\" class=\"node\">\n",
       "<title>4</title>\n",
       "<polygon fill=\"lightgrey\" stroke=\"black\" points=\"183.5,-126 72.5,-126 72.5,-90 183.5,-90 183.5,-126\"/>\n",
       "<text text-anchor=\"middle\" x=\"128\" y=\"-104.3\" font-family=\"Times,serif\" font-size=\"14.00\">Outlook_Rain</text>\n",
       "</g>\n",
       "<!-- 2&#45;&gt;4 -->\n",
       "<g id=\"edge4\" class=\"edge\">\n",
       "<title>2&#45;&gt;4</title>\n",
       "<path fill=\"none\" stroke=\"black\" d=\"M80.53,-178.71C85.28,-172.87 90.48,-166.24 95,-160 100.81,-151.97 106.8,-142.96 112.06,-134.77\"/>\n",
       "<polygon fill=\"black\" stroke=\"black\" points=\"115.03,-136.62 117.43,-126.3 109.12,-132.87 115.03,-136.62\"/>\n",
       "<text text-anchor=\"middle\" x=\"127\" y=\"-148.8\" font-family=\"Times,serif\" font-size=\"14.00\">&gt;0.50</text>\n",
       "</g>\n",
       "<!-- 5 -->\n",
       "<g id=\"node6\" class=\"node\">\n",
       "<title>5</title>\n",
       "<polygon fill=\"lightgrey\" stroke=\"black\" points=\"116,-38 62,-38 62,0 116,0 116,-38\"/>\n",
       "<text text-anchor=\"middle\" x=\"89\" y=\"-22.8\" font-family=\"Times,serif\" font-size=\"14.00\">Yes</text>\n",
       "<text text-anchor=\"middle\" x=\"89\" y=\"-7.8\" font-family=\"Times,serif\" font-size=\"14.00\">(1)</text>\n",
       "</g>\n",
       "<!-- 4&#45;&gt;5 -->\n",
       "<g id=\"edge5\" class=\"edge\">\n",
       "<title>4&#45;&gt;5</title>\n",
       "<path fill=\"none\" stroke=\"black\" d=\"M104.16,-89.92C98.48,-84.56 93.16,-78.15 90,-71 86.9,-63.98 85.78,-55.88 85.66,-48.22\"/>\n",
       "<polygon fill=\"black\" stroke=\"black\" points=\"89.16,-48.32 86.02,-38.2 82.17,-48.07 89.16,-48.32\"/>\n",
       "<text text-anchor=\"middle\" x=\"118\" y=\"-59.8\" font-family=\"Times,serif\" font-size=\"14.00\">&lt;=0.50</text>\n",
       "</g>\n",
       "<!-- 6 -->\n",
       "<g id=\"node7\" class=\"node\">\n",
       "<title>6</title>\n",
       "<polygon fill=\"lightgrey\" stroke=\"black\" points=\"195,-38 141,-38 141,0 195,0 195,-38\"/>\n",
       "<text text-anchor=\"middle\" x=\"168\" y=\"-22.8\" font-family=\"Times,serif\" font-size=\"14.00\">No</text>\n",
       "<text text-anchor=\"middle\" x=\"168\" y=\"-7.8\" font-family=\"Times,serif\" font-size=\"14.00\">(2)</text>\n",
       "</g>\n",
       "<!-- 4&#45;&gt;6 -->\n",
       "<g id=\"edge6\" class=\"edge\">\n",
       "<title>4&#45;&gt;6</title>\n",
       "<path fill=\"none\" stroke=\"black\" d=\"M136.81,-89.88C139.8,-83.94 143.11,-77.21 146,-71 149.55,-63.38 153.23,-55.03 156.54,-47.34\"/>\n",
       "<polygon fill=\"black\" stroke=\"black\" points=\"159.8,-48.62 160.51,-38.05 153.36,-45.87 159.8,-48.62\"/>\n",
       "<text text-anchor=\"middle\" x=\"175\" y=\"-59.8\" font-family=\"Times,serif\" font-size=\"14.00\">&gt;0.50</text>\n",
       "</g>\n",
       "</g>\n",
       "</svg>\n"
      ],
      "text/plain": [
       "<graphviz.files.Source at 0x7f3b4c04e2e0>"
      ]
     },
     "execution_count": 280,
     "metadata": {},
     "output_type": "execute_result"
    }
   ],
   "source": [
    "from id3 import export_graphviz\n",
    "\n",
    "# Preprocessing of training data, fit model \n",
    "modID3.fit(X_train_full, y_train)\n",
    "\n",
    "#r = tree.export_text(model, feature_names = [d for d in data.feature_names])\n",
    "dot_treeID3 = export_graphviz(modelID3.tree_, 'graph.dot', \n",
    "                  feature_names=dtl.named_steps['preprocessor'].transformers_[1][1]\\\n",
    "   .named_steps['onehot'].get_feature_names(X_train_full.columns), \n",
    "                  )\n",
    "with open(\"graph.dot\") as f:\n",
    "    dot_graphID3 = f.read()\n",
    "graphID3 = graphviz.Source(dot_graphID3)\n",
    "\n",
    "# Preprocessing of validation data, get predictions\n",
    "predsID3 = modID3.predict(X_valid_full)\n",
    "\n",
    "graphID3"
   ]
  },
  {
   "cell_type": "markdown",
   "id": "mighty-thickness",
   "metadata": {},
   "source": [
    "### K-Means"
   ]
  },
  {
   "cell_type": "code",
   "execution_count": 281,
   "id": "potential-idaho",
   "metadata": {},
   "outputs": [
    {
     "data": {
      "text/plain": [
       "['No', 'Yes', 'Yes']"
      ]
     },
     "execution_count": 281,
     "metadata": {},
     "output_type": "execute_result"
    }
   ],
   "source": [
    "modelKmeans.fit(X_train_full, y_train)\n",
    "\n",
    "predsKmeans = ['Yes' if item==1 else 'No' for item in modelKmeans.predict(X_valid_full)]\n",
    "predsKmeans"
   ]
  },
  {
   "cell_type": "markdown",
   "id": "convenient-tourism",
   "metadata": {},
   "source": [
    "### Logistic Regression"
   ]
  },
  {
   "cell_type": "code",
   "execution_count": 282,
   "id": "hourly-separate",
   "metadata": {},
   "outputs": [
    {
     "data": {
      "text/plain": [
       "array(['Yes', 'Yes', 'Yes'], dtype=object)"
      ]
     },
     "execution_count": 282,
     "metadata": {},
     "output_type": "execute_result"
    }
   ],
   "source": [
    "modlogistic.fit(X_train_full, y_train)\n",
    "\n",
    "predsLogistic = modlogistic.predict(X_valid_full)\n",
    "predsLogistic"
   ]
  },
  {
   "cell_type": "markdown",
   "id": "german-killing",
   "metadata": {},
   "source": [
    "### Neural Network"
   ]
  },
  {
   "cell_type": "code",
   "execution_count": 283,
   "id": "proved-cement",
   "metadata": {},
   "outputs": [
    {
     "name": "stderr",
     "output_type": "stream",
     "text": [
      "/home/muchammadibnu/.local/lib/python3.8/site-packages/sklearn/neural_network/_multilayer_perceptron.py:614: ConvergenceWarning: Stochastic Optimizer: Maximum iterations (300) reached and the optimization hasn't converged yet.\n",
      "  warnings.warn(\n"
     ]
    },
    {
     "data": {
      "text/plain": [
       "array(['Yes', 'Yes', 'Yes'], dtype='<U3')"
      ]
     },
     "execution_count": 283,
     "metadata": {},
     "output_type": "execute_result"
    }
   ],
   "source": [
    "modNeural.fit(X_train_full, y_train)\n",
    "predsNeural = modNeural.predict(X_valid_full)\n",
    "predsNeural"
   ]
  },
  {
   "cell_type": "markdown",
   "id": "biblical-novel",
   "metadata": {},
   "source": [
    "### SVM"
   ]
  },
  {
   "cell_type": "code",
   "execution_count": 284,
   "id": "exposed-skirt",
   "metadata": {},
   "outputs": [
    {
     "data": {
      "text/plain": [
       "array(['Yes', 'Yes', 'Yes'], dtype=object)"
      ]
     },
     "execution_count": 284,
     "metadata": {},
     "output_type": "execute_result"
    }
   ],
   "source": [
    "modSVM.fit(X_train_full, y_train)\n",
    "predsSVM = modSVM.predict(X_valid_full)\n",
    "predsSVM"
   ]
  },
  {
   "cell_type": "markdown",
   "id": "failing-recording",
   "metadata": {},
   "source": [
    "---\n",
    "## Accuracy and F1 Score"
   ]
  },
  {
   "cell_type": "code",
   "execution_count": 285,
   "id": "cardiac-reward",
   "metadata": {},
   "outputs": [
    {
     "data": {
      "text/html": [
       "<div>\n",
       "<style scoped>\n",
       "    .dataframe tbody tr th:only-of-type {\n",
       "        vertical-align: middle;\n",
       "    }\n",
       "\n",
       "    .dataframe tbody tr th {\n",
       "        vertical-align: top;\n",
       "    }\n",
       "\n",
       "    .dataframe thead th {\n",
       "        text-align: right;\n",
       "    }\n",
       "</style>\n",
       "<table border=\"1\" class=\"dataframe\">\n",
       "  <thead>\n",
       "    <tr style=\"text-align: right;\">\n",
       "      <th></th>\n",
       "      <th>accuracy</th>\n",
       "      <th>f1</th>\n",
       "    </tr>\n",
       "  </thead>\n",
       "  <tbody>\n",
       "    <tr>\n",
       "      <th>Decision Tree Learning</th>\n",
       "      <td>0.666667</td>\n",
       "      <td>0.8</td>\n",
       "    </tr>\n",
       "    <tr>\n",
       "      <th>ID3 Estimator</th>\n",
       "      <td>0.666667</td>\n",
       "      <td>0.8</td>\n",
       "    </tr>\n",
       "    <tr>\n",
       "      <th>K-Means</th>\n",
       "      <td>1.000000</td>\n",
       "      <td>1.0</td>\n",
       "    </tr>\n",
       "    <tr>\n",
       "      <th>Logistic Regression</th>\n",
       "      <td>0.666667</td>\n",
       "      <td>0.8</td>\n",
       "    </tr>\n",
       "    <tr>\n",
       "      <th>Neural Network</th>\n",
       "      <td>0.666667</td>\n",
       "      <td>0.8</td>\n",
       "    </tr>\n",
       "    <tr>\n",
       "      <th>SVM</th>\n",
       "      <td>0.666667</td>\n",
       "      <td>0.8</td>\n",
       "    </tr>\n",
       "  </tbody>\n",
       "</table>\n",
       "</div>"
      ],
      "text/plain": [
       "                        accuracy   f1\n",
       "Decision Tree Learning  0.666667  0.8\n",
       "ID3 Estimator           0.666667  0.8\n",
       "K-Means                 1.000000  1.0\n",
       "Logistic Regression     0.666667  0.8\n",
       "Neural Network          0.666667  0.8\n",
       "SVM                     0.666667  0.8"
      ]
     },
     "execution_count": 285,
     "metadata": {},
     "output_type": "execute_result"
    }
   ],
   "source": [
    "from sklearn.metrics import accuracy_score, f1_score\n",
    "\n",
    "accuracy = [accuracy_score(y_valid, predsDtl),accuracy_score(y_valid, predsID3),accuracy_score(y_valid, predsKmeans),accuracy_score(y_valid, predsLogistic),accuracy_score(y_valid, predsNeural),accuracy_score(y_valid, predsSVM)]\n",
    "f1 = [f1_score(y_valid, predsDtl, pos_label='Yes'), f1_score(y_valid, predsID3, pos_label='Yes'), f1_score(y_valid, predsKmeans, pos_label='Yes'), f1_score(y_valid, predsLogistic, pos_label='Yes'), f1_score(y_valid, predsNeural, pos_label='Yes'), f1_score(y_valid, predsSVM, pos_label='Yes')]\n",
    "score_data = {'accuracy': accuracy, 'f1': f1}\n",
    "score = pd.DataFrame(data = score_data, index=['Decision Tree Learning', 'ID3 Estimator', 'K-Means', 'Logistic Regression', 'Neural Network', 'SVM'])\n",
    "score"
   ]
  },
  {
   "cell_type": "code",
   "execution_count": null,
   "id": "expired-detector",
   "metadata": {},
   "outputs": [],
   "source": []
  }
 ],
 "metadata": {
  "kernelspec": {
   "display_name": "Python 3",
   "language": "python",
   "name": "python3"
  },
  "language_info": {
   "codemirror_mode": {
    "name": "ipython",
    "version": 3
   },
   "file_extension": ".py",
   "mimetype": "text/x-python",
   "name": "python",
   "nbconvert_exporter": "python",
   "pygments_lexer": "ipython3",
   "version": "3.8.5"
  }
 },
 "nbformat": 4,
 "nbformat_minor": 5
}
